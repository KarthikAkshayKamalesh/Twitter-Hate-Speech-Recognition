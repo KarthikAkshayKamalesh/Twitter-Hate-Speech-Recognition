{
 "cells": [
  {
   "cell_type": "markdown",
   "metadata": {},
   "source": [
    "# Import Packages and Functions"
   ]
  },
  {
   "cell_type": "code",
   "execution_count": 1,
   "metadata": {},
   "outputs": [
    {
     "name": "stdout",
     "output_type": "stream",
     "text": [
      "2.5.0\n"
     ]
    }
   ],
   "source": [
    "import numpy as np\n",
    "import pandas as pd\n",
    "import pickle\n",
    "import tensorflow as tf\n",
    "import sys  \n",
    "# !{sys.executable} -m pip install wordcloud\n",
    "# from wordcloud import WordCloud, STOPWORDS\n",
    "import matplotlib.pyplot as plt\n",
    "from tensorflow.keras.preprocessing import text, sequence\n",
    "from tensorflow.keras.models import Sequential\n",
    "from tensorflow.keras.layers import Dense, Dropout, Activation\n",
    "from tensorflow.keras.layers import Embedding\n",
    "from tensorflow.keras.layers import Conv1D, GlobalMaxPooling1D, MaxPooling1D\n",
    "from sklearn.model_selection import train_test_split\n",
    "from sklearn.metrics import accuracy_score, f1_score, precision_score, recall_score , confusion_matrix\n",
    "import seaborn as sns\n",
    "plt.style.use('fivethirtyeight')\n",
    "print(tf.__version__)\n",
    "\n",
    "import os\n",
    "for dirname, _, filenames in os.walk('/kaggle/input'):\n",
    "    for filename in filenames:\n",
    "        print(filename)"
   ]
  },
  {
   "cell_type": "code",
   "execution_count": 2,
   "metadata": {},
   "outputs": [
    {
     "data": {
      "text/html": [
       "<div>\n",
       "<style scoped>\n",
       "    .dataframe tbody tr th:only-of-type {\n",
       "        vertical-align: middle;\n",
       "    }\n",
       "\n",
       "    .dataframe tbody tr th {\n",
       "        vertical-align: top;\n",
       "    }\n",
       "\n",
       "    .dataframe thead th {\n",
       "        text-align: right;\n",
       "    }\n",
       "</style>\n",
       "<table border=\"1\" class=\"dataframe\">\n",
       "  <thead>\n",
       "    <tr style=\"text-align: right;\">\n",
       "      <th></th>\n",
       "      <th>Unnamed: 0</th>\n",
       "      <th>Unnamed: 0.1</th>\n",
       "      <th>Unnamed: 0.1.1</th>\n",
       "      <th>label</th>\n",
       "      <th>tweet</th>\n",
       "    </tr>\n",
       "  </thead>\n",
       "  <tbody>\n",
       "    <tr>\n",
       "      <th>0</th>\n",
       "      <td>46745</td>\n",
       "      <td>26678</td>\n",
       "      <td>26678</td>\n",
       "      <td>0</td>\n",
       "      <td>resistance.  #job   #ruiva #cacheada</td>\n",
       "    </tr>\n",
       "    <tr>\n",
       "      <th>1</th>\n",
       "      <td>46746</td>\n",
       "      <td>33358</td>\n",
       "      <td>33358</td>\n",
       "      <td>1</td>\n",
       "      <td>&amp;#8220;@M_Rad: I'm going to miss these bitches...</td>\n",
       "    </tr>\n",
       "    <tr>\n",
       "      <th>2</th>\n",
       "      <td>46747</td>\n",
       "      <td>6249</td>\n",
       "      <td>6249</td>\n",
       "      <td>0</td>\n",
       "      <td>ð   #tech bitcoin vs. gold [infographic]</td>\n",
       "    </tr>\n",
       "    <tr>\n",
       "      <th>3</th>\n",
       "      <td>46748</td>\n",
       "      <td>49095</td>\n",
       "      <td>49095</td>\n",
       "      <td>1</td>\n",
       "      <td>RT @Ronesha__: When I feel like he entertainin...</td>\n",
       "    </tr>\n",
       "    <tr>\n",
       "      <th>4</th>\n",
       "      <td>46749</td>\n",
       "      <td>55583</td>\n",
       "      <td>55583</td>\n",
       "      <td>1</td>\n",
       "      <td>bitch betta get it right...shout out....ddaaaw...</td>\n",
       "    </tr>\n",
       "    <tr>\n",
       "      <th>...</th>\n",
       "      <td>...</td>\n",
       "      <td>...</td>\n",
       "      <td>...</td>\n",
       "      <td>...</td>\n",
       "      <td>...</td>\n",
       "    </tr>\n",
       "    <tr>\n",
       "      <th>9995</th>\n",
       "      <td>56740</td>\n",
       "      <td>17227</td>\n",
       "      <td>17227</td>\n",
       "      <td>0</td>\n",
       "      <td>@user so we've been here since 9, requested 4 ...</td>\n",
       "    </tr>\n",
       "    <tr>\n",
       "      <th>9996</th>\n",
       "      <td>56741</td>\n",
       "      <td>23832</td>\n",
       "      <td>23832</td>\n",
       "      <td>0</td>\n",
       "      <td>- sirf ashiq log follow karen #iqbal #galib #w...</td>\n",
       "    </tr>\n",
       "    <tr>\n",
       "      <th>9997</th>\n",
       "      <td>56742</td>\n",
       "      <td>9846</td>\n",
       "      <td>9846</td>\n",
       "      <td>0</td>\n",
       "      <td>what is a #detoxdiet?  #altwaystoheal! #health...</td>\n",
       "    </tr>\n",
       "    <tr>\n",
       "      <th>9998</th>\n",
       "      <td>56743</td>\n",
       "      <td>55726</td>\n",
       "      <td>55726</td>\n",
       "      <td>0</td>\n",
       "      <td>dodgerofzion asked: A giant green rooster walk...</td>\n",
       "    </tr>\n",
       "    <tr>\n",
       "      <th>9999</th>\n",
       "      <td>56744</td>\n",
       "      <td>17337</td>\n",
       "      <td>17337</td>\n",
       "      <td>0</td>\n",
       "      <td>we don't need to blame all atrocities on #isis...</td>\n",
       "    </tr>\n",
       "  </tbody>\n",
       "</table>\n",
       "<p>10000 rows × 5 columns</p>\n",
       "</div>"
      ],
      "text/plain": [
       "      Unnamed: 0  Unnamed: 0.1  Unnamed: 0.1.1  label  \\\n",
       "0          46745         26678           26678      0   \n",
       "1          46746         33358           33358      1   \n",
       "2          46747          6249            6249      0   \n",
       "3          46748         49095           49095      1   \n",
       "4          46749         55583           55583      1   \n",
       "...          ...           ...             ...    ...   \n",
       "9995       56740         17227           17227      0   \n",
       "9996       56741         23832           23832      0   \n",
       "9997       56742          9846            9846      0   \n",
       "9998       56743         55726           55726      0   \n",
       "9999       56744         17337           17337      0   \n",
       "\n",
       "                                                  tweet  \n",
       "0                 resistance.  #job   #ruiva #cacheada   \n",
       "1     &#8220;@M_Rad: I'm going to miss these bitches...  \n",
       "2          ð   #tech bitcoin vs. gold [infographic]   \n",
       "3     RT @Ronesha__: When I feel like he entertainin...  \n",
       "4     bitch betta get it right...shout out....ddaaaw...  \n",
       "...                                                 ...  \n",
       "9995  @user so we've been here since 9, requested 4 ...  \n",
       "9996  - sirf ashiq log follow karen #iqbal #galib #w...  \n",
       "9997  what is a #detoxdiet?  #altwaystoheal! #health...  \n",
       "9998  dodgerofzion asked: A giant green rooster walk...  \n",
       "9999  we don't need to blame all atrocities on #isis...  \n",
       "\n",
       "[10000 rows x 5 columns]"
      ]
     },
     "execution_count": 2,
     "metadata": {},
     "output_type": "execute_result"
    }
   ],
   "source": [
    "# Use the the path of the .csv file, that I have attached along with the code\n",
    "tweets_train_dataset=pd.read_csv(\"C:/Users/Ajay/Desktop/Hatespeech/FinalDataset_Train1.csv\")\n",
    "# tweets_train_dataset\n",
    "tweets_test_dataset=pd.read_csv(\"C:/Users/Ajay/Desktop/Hatespeech/FinalDataset_Test1.csv\")\n",
    "tweets_test_dataset"
   ]
  },
  {
   "cell_type": "code",
   "execution_count": 3,
   "metadata": {},
   "outputs": [],
   "source": [
    "x = tweets_train_dataset['tweet']\n",
    "y = tweets_train_dataset['label']"
   ]
  },
  {
   "cell_type": "code",
   "execution_count": 4,
   "metadata": {},
   "outputs": [
    {
     "data": {
      "text/plain": [
       "0    26853\n",
       "1    19892\n",
       "Name: label, dtype: int64"
      ]
     },
     "execution_count": 4,
     "metadata": {},
     "output_type": "execute_result"
    }
   ],
   "source": [
    "tweets_train_dataset['label'].value_counts()"
   ]
  },
  {
   "cell_type": "code",
   "execution_count": 5,
   "metadata": {},
   "outputs": [],
   "source": [
    "max_features = 20000\n",
    "max_text_length = 400"
   ]
  },
  {
   "cell_type": "code",
   "execution_count": 6,
   "metadata": {},
   "outputs": [],
   "source": [
    "x_tokenizer = text.Tokenizer(max_features)\n",
    "x_tokenizer.fit_on_texts(list(x))"
   ]
  },
  {
   "cell_type": "code",
   "execution_count": 7,
   "metadata": {},
   "outputs": [],
   "source": [
    "# Save tokenizer for future use\n",
    "with open('toxic_tokenizer.pkl', 'wb') as f:\n",
    "    pickle.dump(x_tokenizer, f, protocol=pickle.HIGHEST_PROTOCOL)"
   ]
  },
  {
   "cell_type": "code",
   "execution_count": 8,
   "metadata": {},
   "outputs": [],
   "source": [
    "x_tokenized = x_tokenizer.texts_to_sequences(x)\n",
    "x_train_val= sequence.pad_sequences(x_tokenized, maxlen=max_text_length)"
   ]
  },
  {
   "cell_type": "markdown",
   "metadata": {},
   "source": [
    "# Vectorizing using Glove vectorizer "
   ]
  },
  {
   "cell_type": "code",
   "execution_count": 9,
   "metadata": {},
   "outputs": [
    {
     "name": "stdout",
     "output_type": "stream",
     "text": [
      "Found 400000 word vectors\n"
     ]
    }
   ],
   "source": [
    "embedding_dim =100\n",
    "embeddings_index = dict()\n",
    "f = open('C:/Users/Ajay/Desktop/Hatespeech/glove.6B.100d.txt', encoding=\"utf8\")\n",
    "for line in f:\n",
    "    values = line.split()\n",
    "    word = values[0]\n",
    "    coefs = np.asarray(values[1:],dtype='float32')\n",
    "    embeddings_index[word]= coefs\n",
    "f.close()\n",
    "print(f'Found {len(embeddings_index)} word vectors')"
   ]
  },
  {
   "cell_type": "code",
   "execution_count": 10,
   "metadata": {},
   "outputs": [],
   "source": [
    "embedding_matrix= np.zeros((max_features,embedding_dim))\n",
    "for word, index in x_tokenizer.word_index.items():\n",
    "    if index>max_features-1:\n",
    "        break\n",
    "    else:\n",
    "        embedding_vector = embeddings_index.get(word)\n",
    "        if embedding_vector is not None:\n",
    "            embedding_matrix[index]= embedding_vector"
   ]
  },
  {
   "cell_type": "code",
   "execution_count": 11,
   "metadata": {},
   "outputs": [],
   "source": [
    "filters= 250\n",
    "kernel_size=3\n",
    "hidden_dims= 250"
   ]
  },
  {
   "cell_type": "markdown",
   "metadata": {},
   "source": [
    "# Building a CNN model"
   ]
  },
  {
   "cell_type": "code",
   "execution_count": 12,
   "metadata": {},
   "outputs": [
    {
     "name": "stdout",
     "output_type": "stream",
     "text": [
      "Model: \"sequential\"\n",
      "_________________________________________________________________\n",
      "Layer (type)                 Output Shape              Param #   \n",
      "=================================================================\n",
      "embedding (Embedding)        (None, None, 100)         2000000   \n",
      "_________________________________________________________________\n",
      "dropout (Dropout)            (None, None, 100)         0         \n",
      "_________________________________________________________________\n",
      "conv1d (Conv1D)              (None, None, 250)         75250     \n",
      "_________________________________________________________________\n",
      "max_pooling1d (MaxPooling1D) (None, None, 250)         0         \n",
      "_________________________________________________________________\n",
      "conv1d_1 (Conv1D)            (None, None, 250)         312750    \n",
      "_________________________________________________________________\n",
      "global_max_pooling1d (Global (None, 250)               0         \n",
      "_________________________________________________________________\n",
      "dense (Dense)                (None, 250)               62750     \n",
      "_________________________________________________________________\n",
      "dropout_1 (Dropout)          (None, 250)               0         \n",
      "_________________________________________________________________\n",
      "dense_1 (Dense)              (None, 1)                 251       \n",
      "=================================================================\n",
      "Total params: 2,451,001\n",
      "Trainable params: 451,001\n",
      "Non-trainable params: 2,000,000\n",
      "_________________________________________________________________\n"
     ]
    }
   ],
   "source": [
    "model = Sequential()\n",
    "model.add(Embedding(max_features,\n",
    "                    embedding_dim,\n",
    "                    embeddings_initializer=tf.keras.initializers.Constant(embedding_matrix),\n",
    "                    trainable=False))\n",
    "model.add(Dropout(0.2))\n",
    "model.add(Conv1D(filters,\n",
    "                 kernel_size,\n",
    "                 padding='valid',\n",
    "                 activation='relu'))\n",
    "model.add(MaxPooling1D())\n",
    "model.add(Conv1D(filters,\n",
    "                 5,\n",
    "                 padding='valid',\n",
    "                 activation='relu'))\n",
    "model.add(GlobalMaxPooling1D())\n",
    "model.add(Dense(hidden_dims, activation='relu'))\n",
    "model.add(Dropout(0.2))\n",
    "\n",
    "model.add(Dense(1, activation='sigmoid'))\n",
    "model.summary()"
   ]
  },
  {
   "cell_type": "code",
   "execution_count": 13,
   "metadata": {},
   "outputs": [],
   "source": [
    "model.compile(loss='binary_crossentropy',optimizer='adam',metrics=['accuracy'])"
   ]
  },
  {
   "cell_type": "code",
   "execution_count": 14,
   "metadata": {},
   "outputs": [],
   "source": [
    "x_train,x_val,y_train,y_val = train_test_split(x_train_val,y,test_size=0.2,random_state=1)"
   ]
  },
  {
   "cell_type": "markdown",
   "metadata": {},
   "source": [
    "# Training the CNN Model"
   ]
  },
  {
   "cell_type": "code",
   "execution_count": 15,
   "metadata": {
    "scrolled": true
   },
   "outputs": [
    {
     "name": "stdout",
     "output_type": "stream",
     "text": [
      "Epoch 1/5\n",
      "1169/1169 [==============================] - 180s 152ms/step - loss: 0.2645 - accuracy: 0.8907 - val_loss: 0.1934 - val_accuracy: 0.9201\n",
      "Epoch 2/5\n",
      "1169/1169 [==============================] - 180s 154ms/step - loss: 0.2015 - accuracy: 0.9192 - val_loss: 0.1920 - val_accuracy: 0.9260\n",
      "Epoch 3/5\n",
      "1169/1169 [==============================] - 178s 152ms/step - loss: 0.1783 - accuracy: 0.9283 - val_loss: 0.1746 - val_accuracy: 0.9324\n",
      "Epoch 4/5\n",
      "1169/1169 [==============================] - 173s 148ms/step - loss: 0.1549 - accuracy: 0.9391 - val_loss: 0.1786 - val_accuracy: 0.9323\n",
      "Epoch 5/5\n",
      "1169/1169 [==============================] - 169s 144ms/step - loss: 0.1354 - accuracy: 0.9462 - val_loss: 0.1860 - val_accuracy: 0.9345\n"
     ]
    }
   ],
   "source": [
    "batch_size= 32\n",
    "epochs = 5\n",
    "hist = model.fit(x_train,y_train,\n",
    "                    batch_size= batch_size,\n",
    "                    epochs=epochs,\n",
    "                    validation_data= (x_val,y_val)\n",
    "                    )"
   ]
  },
  {
   "cell_type": "code",
   "execution_count": 16,
   "metadata": {},
   "outputs": [],
   "source": [
    "x_test = tweets_test_dataset['tweet'].values\n",
    "y_test = tweets_test_dataset['label'].values"
   ]
  },
  {
   "cell_type": "code",
   "execution_count": 17,
   "metadata": {},
   "outputs": [],
   "source": [
    "x_test_tokenized = x_tokenizer.texts_to_sequences(x_test)\n",
    "x_testing = sequence.pad_sequences(x_test_tokenized,maxlen=max_text_length)"
   ]
  },
  {
   "cell_type": "code",
   "execution_count": 18,
   "metadata": {},
   "outputs": [
    {
     "name": "stdout",
     "output_type": "stream",
     "text": [
      "313/313 [==============================] - 12s 38ms/step\n"
     ]
    }
   ],
   "source": [
    "y_pred = model.predict(x_testing,verbose=1,batch_size=32)"
   ]
  },
  {
   "cell_type": "code",
   "execution_count": 19,
   "metadata": {},
   "outputs": [],
   "source": [
    "y_pred = [0 if y[0] < 0.5 else 1 for y in y_pred]"
   ]
  },
  {
   "cell_type": "code",
   "execution_count": 20,
   "metadata": {},
   "outputs": [
    {
     "name": "stdout",
     "output_type": "stream",
     "text": [
      "Accuracy: 93.01%\n"
     ]
    }
   ],
   "source": [
    "print(\"Accuracy: {:.2f}%\".format(accuracy_score(y_test, y_pred) * 100))"
   ]
  },
  {
   "cell_type": "code",
   "execution_count": 21,
   "metadata": {},
   "outputs": [
    {
     "name": "stdout",
     "output_type": "stream",
     "text": [
      "F1 Score: 0.927884\n"
     ]
    }
   ],
   "source": [
    "print(\"F1 Score: {:.6f}\".format(f1_score(y_test, y_pred, average='macro')))"
   ]
  },
  {
   "cell_type": "code",
   "execution_count": 22,
   "metadata": {},
   "outputs": [
    {
     "name": "stdout",
     "output_type": "stream",
     "text": [
      "F1 Score: 0.932918\n"
     ]
    }
   ],
   "source": [
    "print(\"F1 Score: {:.6f}\".format(precision_score(y_test, y_pred, average='macro')))"
   ]
  },
  {
   "cell_type": "code",
   "execution_count": 23,
   "metadata": {},
   "outputs": [
    {
     "name": "stdout",
     "output_type": "stream",
     "text": [
      "F1 Score: 0.924384\n"
     ]
    }
   ],
   "source": [
    "print(\"F1 Score: {:.6f}\".format(recall_score(y_test, y_pred, average='macro')))"
   ]
  },
  {
   "cell_type": "code",
   "execution_count": 24,
   "metadata": {},
   "outputs": [
    {
     "data": {
      "image/png": "[encoded data removed]",
      "text/plain": [
       "<Figure size 432x288 with 2 Axes>"
      ]
     },
     "metadata": {},
     "output_type": "display_data"
    }
   ],
   "source": [
    "cm = confusion_matrix(y_test, y_pred)\n",
    "fig = sns.heatmap(cm, annot=True, fmt=\"d\")\n",
    "plt.title(\"Confusion Matrix\")\n",
    "plt.xlabel(\"Predicted Label\")\n",
    "plt.ylabel(\"Actual Label\")\n",
    "plt.show(fig)"
   ]
  }
 ],
 "metadata": {
  "kernelspec": {
   "display_name": "Python 3",
   "language": "python",
   "name": "python3"
  },
  "language_info": {
   "codemirror_mode": {
    "name": "ipython",
    "version": 3
   },
   "file_extension": ".py",
   "mimetype": "text/x-python",
   "name": "python",
   "nbconvert_exporter": "python",
   "pygments_lexer": "ipython3",
   "version": "3.6.10"
  }
 },
 "nbformat": 4,
 "nbformat_minor": 5
}
